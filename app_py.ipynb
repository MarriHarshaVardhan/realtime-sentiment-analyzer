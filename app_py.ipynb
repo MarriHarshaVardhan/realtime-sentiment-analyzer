{
  "nbformat": 4,
  "nbformat_minor": 0,
  "metadata": {
    "colab": {
      "provenance": [],
      "authorship_tag": "ABX9TyO4Sdo6VjlpamzBxYna+QAB",
      "include_colab_link": true
    },
    "kernelspec": {
      "name": "python3",
      "display_name": "Python 3"
    },
    "language_info": {
      "name": "python"
    }
  },
  "cells": [
    {
      "cell_type": "markdown",
      "metadata": {
        "id": "view-in-github",
        "colab_type": "text"
      },
      "source": [
        "<a href=\"https://colab.research.google.com/github/MarriHarshaVardhan/realtime-sentiment-analyzer/blob/main/app_py.ipynb\" target=\"_parent\"><img src=\"https://colab.research.google.com/assets/colab-badge.svg\" alt=\"Open In Colab\"/></a>"
      ]
    },
    {
      "cell_type": "code",
      "source": [
        "!pip install flask\n",
        "!pip install transformers # For Hugging Face sentiment analysis model\n",
        "!pip install ngrok # or serveo for tunneling\n",
        "!pip install flask-ngrok\n",
        "!pip install pyngrok"
      ],
      "metadata": {
        "id": "DREyFvHrsk7r",
        "colab": {
          "base_uri": "https://localhost:8080/"
        },
        "outputId": "b46fdfa3-c6f9-4700-ea33-d2728461fcbe"
      },
      "execution_count": 6,
      "outputs": [
        {
          "output_type": "stream",
          "name": "stdout",
          "text": [
            "Requirement already satisfied: flask in /usr/local/lib/python3.11/dist-packages (3.1.1)\n",
            "Requirement already satisfied: blinker>=1.9.0 in /usr/local/lib/python3.11/dist-packages (from flask) (1.9.0)\n",
            "Requirement already satisfied: click>=8.1.3 in /usr/local/lib/python3.11/dist-packages (from flask) (8.2.1)\n",
            "Requirement already satisfied: itsdangerous>=2.2.0 in /usr/local/lib/python3.11/dist-packages (from flask) (2.2.0)\n",
            "Requirement already satisfied: jinja2>=3.1.2 in /usr/local/lib/python3.11/dist-packages (from flask) (3.1.6)\n",
            "Requirement already satisfied: markupsafe>=2.1.1 in /usr/local/lib/python3.11/dist-packages (from flask) (3.0.2)\n",
            "Requirement already satisfied: werkzeug>=3.1.0 in /usr/local/lib/python3.11/dist-packages (from flask) (3.1.3)\n",
            "Requirement already satisfied: transformers in /usr/local/lib/python3.11/dist-packages (4.53.1)\n",
            "Requirement already satisfied: filelock in /usr/local/lib/python3.11/dist-packages (from transformers) (3.18.0)\n",
            "Requirement already satisfied: huggingface-hub<1.0,>=0.30.0 in /usr/local/lib/python3.11/dist-packages (from transformers) (0.33.2)\n",
            "Requirement already satisfied: numpy>=1.17 in /usr/local/lib/python3.11/dist-packages (from transformers) (2.0.2)\n",
            "Requirement already satisfied: packaging>=20.0 in /usr/local/lib/python3.11/dist-packages (from transformers) (24.2)\n",
            "Requirement already satisfied: pyyaml>=5.1 in /usr/local/lib/python3.11/dist-packages (from transformers) (6.0.2)\n",
            "Requirement already satisfied: regex!=2019.12.17 in /usr/local/lib/python3.11/dist-packages (from transformers) (2024.11.6)\n",
            "Requirement already satisfied: requests in /usr/local/lib/python3.11/dist-packages (from transformers) (2.32.3)\n",
            "Requirement already satisfied: tokenizers<0.22,>=0.21 in /usr/local/lib/python3.11/dist-packages (from transformers) (0.21.2)\n",
            "Requirement already satisfied: safetensors>=0.4.3 in /usr/local/lib/python3.11/dist-packages (from transformers) (0.5.3)\n",
            "Requirement already satisfied: tqdm>=4.27 in /usr/local/lib/python3.11/dist-packages (from transformers) (4.67.1)\n",
            "Requirement already satisfied: fsspec>=2023.5.0 in /usr/local/lib/python3.11/dist-packages (from huggingface-hub<1.0,>=0.30.0->transformers) (2025.3.2)\n",
            "Requirement already satisfied: typing-extensions>=3.7.4.3 in /usr/local/lib/python3.11/dist-packages (from huggingface-hub<1.0,>=0.30.0->transformers) (4.14.1)\n",
            "Requirement already satisfied: hf-xet<2.0.0,>=1.1.2 in /usr/local/lib/python3.11/dist-packages (from huggingface-hub<1.0,>=0.30.0->transformers) (1.1.5)\n",
            "Requirement already satisfied: charset-normalizer<4,>=2 in /usr/local/lib/python3.11/dist-packages (from requests->transformers) (3.4.2)\n",
            "Requirement already satisfied: idna<4,>=2.5 in /usr/local/lib/python3.11/dist-packages (from requests->transformers) (3.10)\n",
            "Requirement already satisfied: urllib3<3,>=1.21.1 in /usr/local/lib/python3.11/dist-packages (from requests->transformers) (2.4.0)\n",
            "Requirement already satisfied: certifi>=2017.4.17 in /usr/local/lib/python3.11/dist-packages (from requests->transformers) (2025.7.9)\n",
            "Requirement already satisfied: ngrok in /usr/local/lib/python3.11/dist-packages (1.4.0)\n",
            "Requirement already satisfied: flask-ngrok in /usr/local/lib/python3.11/dist-packages (0.0.25)\n",
            "Requirement already satisfied: Flask>=0.8 in /usr/local/lib/python3.11/dist-packages (from flask-ngrok) (3.1.1)\n",
            "Requirement already satisfied: requests in /usr/local/lib/python3.11/dist-packages (from flask-ngrok) (2.32.3)\n",
            "Requirement already satisfied: blinker>=1.9.0 in /usr/local/lib/python3.11/dist-packages (from Flask>=0.8->flask-ngrok) (1.9.0)\n",
            "Requirement already satisfied: click>=8.1.3 in /usr/local/lib/python3.11/dist-packages (from Flask>=0.8->flask-ngrok) (8.2.1)\n",
            "Requirement already satisfied: itsdangerous>=2.2.0 in /usr/local/lib/python3.11/dist-packages (from Flask>=0.8->flask-ngrok) (2.2.0)\n",
            "Requirement already satisfied: jinja2>=3.1.2 in /usr/local/lib/python3.11/dist-packages (from Flask>=0.8->flask-ngrok) (3.1.6)\n",
            "Requirement already satisfied: markupsafe>=2.1.1 in /usr/local/lib/python3.11/dist-packages (from Flask>=0.8->flask-ngrok) (3.0.2)\n",
            "Requirement already satisfied: werkzeug>=3.1.0 in /usr/local/lib/python3.11/dist-packages (from Flask>=0.8->flask-ngrok) (3.1.3)\n",
            "Requirement already satisfied: charset-normalizer<4,>=2 in /usr/local/lib/python3.11/dist-packages (from requests->flask-ngrok) (3.4.2)\n",
            "Requirement already satisfied: idna<4,>=2.5 in /usr/local/lib/python3.11/dist-packages (from requests->flask-ngrok) (3.10)\n",
            "Requirement already satisfied: urllib3<3,>=1.21.1 in /usr/local/lib/python3.11/dist-packages (from requests->flask-ngrok) (2.4.0)\n",
            "Requirement already satisfied: certifi>=2017.4.17 in /usr/local/lib/python3.11/dist-packages (from requests->flask-ngrok) (2025.7.9)\n",
            "Collecting pyngrok\n",
            "  Downloading pyngrok-7.2.12-py3-none-any.whl.metadata (9.4 kB)\n",
            "Requirement already satisfied: PyYAML>=5.1 in /usr/local/lib/python3.11/dist-packages (from pyngrok) (6.0.2)\n",
            "Downloading pyngrok-7.2.12-py3-none-any.whl (26 kB)\n",
            "Installing collected packages: pyngrok\n",
            "Successfully installed pyngrok-7.2.12\n"
          ]
        }
      ]
    },
    {
      "cell_type": "code",
      "source": [
        "!pip show flask-ngrok"
      ],
      "metadata": {
        "colab": {
          "base_uri": "https://localhost:8080/"
        },
        "id": "z3sLfK64TyNT",
        "outputId": "3ede5e9f-715d-428b-a3e3-df56f4da93dd"
      },
      "execution_count": 5,
      "outputs": [
        {
          "output_type": "stream",
          "name": "stdout",
          "text": [
            "Name: flask-ngrok\n",
            "Version: 0.0.25\n",
            "Summary: A simple way to demo Flask apps from your machine.\n",
            "Home-page: https://github.com/gstaff/flask-ngrok\n",
            "Author: Grant Stafford\n",
            "Author-email: \n",
            "License: UNKNOWN\n",
            "Location: /usr/local/lib/python3.11/dist-packages\n",
            "Requires: Flask, requests\n",
            "Required-by: \n"
          ]
        }
      ]
    },
    {
      "cell_type": "code",
      "source": [
        "%%writefile app.py\n",
        "from flask import Flask, render_template_string, request, jsonify\n",
        "from transformers import pipeline\n",
        "\n",
        "app = Flask(__name__)\n",
        "\n",
        "sentiment_pipeline = pipeline(\"sentiment-analysis\")\n",
        "\n",
        "HTML_TEMPLATE = \"\"\"\n",
        "<!DOCTYPE html>\n",
        "<html lang=\"en\">\n",
        "<head>\n",
        "    <meta charset=\"UTF-8\">\n",
        "    <meta name=\"viewport\" content=\"width=device-width, initial-scale=1.0\">\n",
        "    <title>Real-time Sentiment Analyzer</title>\n",
        "    <style>\n",
        "        body { font-family: Arial, sans-serif; margin: 20px; }\n",
        "        .container { max-width: 600px; margin: auto; padding: 20px; border: 1px solid #ccc; border-radius: 8px; }\n",
        "        textarea { width: 100%; height: 150px; margin-bottom: 10px; padding: 10px; border: 1px solid #ddd; border-radius: 4px; }\n",
        "        button { padding: 10px 15px; background-color: #007bff; color: white; border: none; border-radius: 4px; cursor: pointer; }\n",
        "        button:hover { background-color: #0056b3; }\n",
        "        #result { margin-top: 20px; font-weight: bold; }\n",
        "        .positive { color: green; }\n",
        "        .negative { color: red; }\n",
        "        .neutral { color: gray; }\n",
        "    </style>\n",
        "</head>\n",
        "<body>\n",
        "    <div class=\"container\">\n",
        "        <h1>Real-time Sentiment Analyzer</h1>\n",
        "        <p>Type some text below and get its sentiment analyzed instantly!</p>\n",
        "        <textarea id=\"textInput\" placeholder=\"Enter your text here...\"></textarea>\n",
        "        <button onclick=\"analyzeSentiment()\">Analyze Sentiment</button>\n",
        "        <div id=\"result\"></div>\n",
        "    </div>\n",
        "\n",
        "    <script>\n",
        "        async function analyzeSentiment() {\n",
        "            const text = document.getElementById('textInput').value;\n",
        "            if (!text.trim()) {\n",
        "                document.getElementById('result').innerHTML = '';\n",
        "                return;\n",
        "            }\n",
        "\n",
        "            const response = await fetch('/analyze', {\n",
        "                method: 'POST',\n",
        "                headers: {\n",
        "                    'Content-Type': 'application/json'\n",
        "                },\n",
        "                body: JSON.stringify({ text: text })\n",
        "            });\n",
        "            const data = await response.json();\n",
        "            const sentiment = data.sentiment[0];\n",
        "            const label = sentiment.label;\n",
        "            const score = sentiment.score;\n",
        "\n",
        "            let resultDiv = document.getElementById('result');\n",
        "            resultDiv.innerHTML = `Sentiment: <span class=\"${label.toLowerCase()}\">${label}</span> (Score: ${score.toFixed(4)})`;\n",
        "        }\n",
        "        document.getElementById('textInput').addEventListener('keyup', analyzeSentiment);\n",
        "    </script>\n",
        "</body>\n",
        "</html>\n",
        "\"\"\"\n",
        "\n",
        "@app.route('/')\n",
        "def home():\n",
        "    return render_template_string(HTML_TEMPLATE)\n",
        "\n",
        "@app.route('/analyze', methods=['POST'])\n",
        "def analyze():\n",
        "    data = request.get_json()\n",
        "    text = data.get('text', '')\n",
        "    if text:\n",
        "        sentiment = sentiment_pipeline(text)\n",
        "        return jsonify({\"sentiment\": sentiment})\n",
        "    return jsonify({\"sentiment\": []}), 400\n",
        "\n",
        "if __name__ == '__main__':\n",
        "    app.run()"
      ],
      "metadata": {
        "id": "c7BmNHBsztR4",
        "colab": {
          "base_uri": "https://localhost:8080/"
        },
        "outputId": "b97de8db-a891-47c8-edb4-c24f69f83230"
      },
      "execution_count": 7,
      "outputs": [
        {
          "output_type": "stream",
          "name": "stdout",
          "text": [
            "Overwriting app.py\n"
          ]
        }
      ]
    },
    {
      "cell_type": "code",
      "source": [],
      "metadata": {
        "id": "lT-JNcxtTwiB"
      },
      "execution_count": null,
      "outputs": []
    },
    {
      "cell_type": "code",
      "source": [
        "# First, get your ngrok authtoken from https://ngrok.com/signup and paste it here\n",
        "# You only need to run this once per Colab session or if your token changes.\n",
        "!ngrok authtoken 2tn9hLRFrAqqE1ZCUddIa4teUZ7_7CsDvidB6bJYhJDQC4tQG\n",
        "\n",
        "import threading\n",
        "import subprocess\n",
        "import time\n",
        "from flask_ngrok import run_with_ngrok # Now this import should work\n",
        "\n",
        "# This assumes your Flask app object is named 'app' in app.py\n",
        "# If your app.py creates the app instance, then you can use run_with_ngrok directly on it.\n",
        "# However, if you are running app.py as a subprocess, the flask_ngrok integration needs a slightly different approach.\n",
        "\n",
        "# A simpler way to use run_with_ngrok if you're keeping your Flask app within the notebook:\n",
        "# (If you're using %%writefile, the `app` object from app.py isn't directly available in the notebook's global scope after writing.)\n",
        "\n",
        "# Option 1: If you want to use `run_with_ngrok` as intended (best practice if app is defined in notebook directly)\n",
        "# (This would mean you copy the Flask app definition directly into this cell,\n",
        "#  instead of writing it to app.py with %%writefile)\n",
        "# from flask import Flask, render_template_string, request, jsonify\n",
        "# from transformers import pipeline\n",
        "# from flask_ngrok import run_with_ngrok\n",
        "\n",
        "# app = Flask(__name__)\n",
        "# sentiment_pipeline = pipeline(\"sentiment-analysis\")\n",
        "# # ... (your HTML_TEMPLATE, @app.route definitions etc.) ...\n",
        "# if __name__ == '__main__':\n",
        "#     run_with_ngrok(app) # Use run_with_ngrok directly with your app instance\n",
        "#     app.run() # This line will actually be handled by run_with_ngrok\n",
        "\n",
        "# Option 2: If you prefer to keep `app.py` separate and run it as a subprocess (more complex for ngrok integration)\n",
        "# The original snippet for running as subprocess with ngrok.connect() is more suitable here.\n",
        "# For `flask_ngrok`, it's designed to be used *within* the Flask app's main execution.\n",
        "\n",
        "# Let's use `pyngrok` directly to expose the port, as `flask_ngrok` expects to control the app's run()\n",
        "# This is generally more robust when running `app.py` as a separate process in Colab.\n",
        "\n",
        "from pyngrok import ngrok\n",
        "\n",
        "# Start Flask app in a separate thread/process\n",
        "def run_flask_app():\n",
        "    subprocess.run([\"python\", \"app.py\"])\n",
        "\n",
        "flask_thread = threading.Thread(target=run_flask_app)\n",
        "flask_thread.daemon = True\n",
        "flask_thread.start()\n",
        "\n",
        "# Give Flask some time to start up\n",
        "time.sleep(5)\n",
        "\n",
        "# Expose the Flask port (default 5000) using ngrok\n",
        "public_url = ngrok.connect(5000)\n",
        "print(f\"Flask App Live at: {public_url}\")\n",
        "print(\"Please copy this URL and open in your browser.\")"
      ],
      "metadata": {
        "colab": {
          "base_uri": "https://localhost:8080/"
        },
        "id": "908u7oK9S8fn",
        "outputId": "fd7b4dc3-1d07-4e2d-d9ac-64df30617cb7"
      },
      "execution_count": 10,
      "outputs": [
        {
          "output_type": "stream",
          "name": "stdout",
          "text": [
            "Authtoken saved to configuration file: /root/.config/ngrok/ngrok.yml\n",
            "Flask App Live at: NgrokTunnel: \"https://fa3da339a925.ngrok-free.app\" -> \"http://localhost:5000\"\n",
            "Please copy this URL and open in your browser.\n"
          ]
        }
      ]
    },
    {
      "cell_type": "code",
      "source": [],
      "metadata": {
        "id": "KB7Lcv9HTCst"
      },
      "execution_count": null,
      "outputs": []
    }
  ]
}